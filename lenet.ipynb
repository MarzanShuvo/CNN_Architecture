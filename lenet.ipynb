{
 "cells": [
  {
   "cell_type": "code",
   "execution_count": 1,
   "metadata": {},
   "outputs": [
    {
     "name": "stderr",
     "output_type": "stream",
     "text": [
      "Using TensorFlow backend.\n"
     ]
    }
   ],
   "source": [
    "from keras.models import Sequential\n",
    "from keras.layers.convolutional import Conv2D\n",
    "from keras.layers.convolutional import MaxPooling2D\n",
    "from keras.layers.core import Activation\n",
    "from keras.layers.core import Flatten\n",
    "from keras.layers.core import Dense\n",
    "from keras import backend as k"
   ]
  },
  {
   "cell_type": "code",
   "execution_count": 2,
   "metadata": {},
   "outputs": [],
   "source": [
    "class LeNet:\n",
    "    @staticmethod\n",
    "    def build(numChannels, imgRows, imgCols, numClasses, activation=\"relu\", weightsPath=None):\n",
    "        # sequential initialize the mode\n",
    "        model = Sequential()\n",
    "        inputShape = (imgRows, imgCols, numChannels)\n",
    "        \n",
    "        #if we are using \"last channels\", update the input shape\n",
    "        \n",
    "        inputShape = (imgRows, imgCols, numChannels)\n",
    "        # define the first set of CONV => ACTIVATION => POOL layers\n",
    "        model.add(Conv2D(32,5,padding=\"Same\",input_shape=inputShape)) #20=convolution Filter,5=each filter size 5*5\n",
    "        model.add(Activation(activation))\n",
    "        model.add(MaxPooling2D(pool_size=(2,2),strides=(2,2)))\n",
    "        # define the second set of CONV => ACTIVATION => POOL layers\n",
    "        model.add(Conv2D(32,5,padding=\"Same\"))\n",
    "        model.add(Activation(activation))\n",
    "        model.add(MaxPooling2D(pool_size=(2,2),strides=(2,2)))\n",
    "        # define the first FC => ACTIVATION layers\n",
    "        model.add(Flatten())\n",
    "        model.add(Dense(500))\n",
    "        model.add(Activation(activation))\n",
    "        # define the second FC layer\n",
    "        model.add(Dense(numClasses))\n",
    "        # lastly, define the soft-max classifier\n",
    "        model.add(Activation(\"softmax\"))\n",
    "        # if a weights path is supplied (inicating that the model was pre-trained), then load the weights\n",
    "        # return the construction architecture\n",
    "        return model\n",
    "    "
   ]
  },
  {
   "cell_type": "code",
   "execution_count": 3,
   "metadata": {},
   "outputs": [
    {
     "name": "stdout",
     "output_type": "stream",
     "text": [
      "Model: \"sequential_1\"\n",
      "_________________________________________________________________\n",
      "Layer (type)                 Output Shape              Param #   \n",
      "=================================================================\n",
      "conv2d_1 (Conv2D)            (None, 227, 227, 32)      2432      \n",
      "_________________________________________________________________\n",
      "activation_1 (Activation)    (None, 227, 227, 32)      0         \n",
      "_________________________________________________________________\n",
      "max_pooling2d_1 (MaxPooling2 (None, 113, 113, 32)      0         \n",
      "_________________________________________________________________\n",
      "conv2d_2 (Conv2D)            (None, 113, 113, 32)      25632     \n",
      "_________________________________________________________________\n",
      "activation_2 (Activation)    (None, 113, 113, 32)      0         \n",
      "_________________________________________________________________\n",
      "max_pooling2d_2 (MaxPooling2 (None, 56, 56, 32)        0         \n",
      "_________________________________________________________________\n",
      "flatten_1 (Flatten)          (None, 100352)            0         \n",
      "_________________________________________________________________\n",
      "dense_1 (Dense)              (None, 500)               50176500  \n",
      "_________________________________________________________________\n",
      "activation_3 (Activation)    (None, 500)               0         \n",
      "_________________________________________________________________\n",
      "dense_2 (Dense)              (None, 2)                 1002      \n",
      "_________________________________________________________________\n",
      "activation_4 (Activation)    (None, 2)                 0         \n",
      "=================================================================\n",
      "Total params: 50,205,566\n",
      "Trainable params: 50,205,566\n",
      "Non-trainable params: 0\n",
      "_________________________________________________________________\n"
     ]
    }
   ],
   "source": [
    "from keras.optimizers import SGD\n",
    "opt = SGD(lr=0.01)\n",
    "model = LeNet.build(numChannels=3, imgRows=227, imgCols=227, numClasses=2)\n",
    "model.compile(optimizer = 'adam', loss = 'binary_crossentropy', metrics = ['accuracy'])\n",
    "model.summary()"
   ]
  },
  {
   "cell_type": "code",
   "execution_count": 38,
   "metadata": {},
   "outputs": [
    {
     "name": "stdout",
     "output_type": "stream",
     "text": [
      "Found 8000 images belonging to 2 classes.\n",
      "Found 2000 images belonging to 2 classes.\n"
     ]
    },
    {
     "name": "stderr",
     "output_type": "stream",
     "text": [
      "/home/marzan/work_env/local/lib/python3.5/site-packages/ipykernel_launcher.py:22: UserWarning: The semantics of the Keras 2 argument `steps_per_epoch` is not the same as the Keras 1 argument `samples_per_epoch`. `steps_per_epoch` is the number of batches to draw from the generator at each epoch. Basically steps_per_epoch = samples_per_epoch/batch_size. Similarly `nb_val_samples`->`validation_steps` and `val_samples`->`steps` arguments have changed. Update your method calls accordingly.\n",
      "/home/marzan/work_env/local/lib/python3.5/site-packages/ipykernel_launcher.py:22: UserWarning: Update your `fit_generator` call to the Keras 2 API: `fit_generator(<keras.pre..., epochs=10, validation_steps=2000, validation_data=<keras.pre..., steps_per_epoch=250)`\n"
     ]
    },
    {
     "name": "stdout",
     "output_type": "stream",
     "text": [
      "Epoch 1/10\n",
      "250/250 [==============================] - 549s 2s/step - loss: 0.6929 - accuracy: 0.5424 - val_loss: 0.7294 - val_accuracy: 0.5775\n",
      "Epoch 2/10\n",
      "250/250 [==============================] - 543s 2s/step - loss: 0.6682 - accuracy: 0.5861 - val_loss: 0.6334 - val_accuracy: 0.6367\n",
      "Epoch 3/10\n",
      "250/250 [==============================] - 542s 2s/step - loss: 0.6509 - accuracy: 0.6190 - val_loss: 0.6025 - val_accuracy: 0.6647\n",
      "Epoch 4/10\n",
      "250/250 [==============================] - 541s 2s/step - loss: 0.6251 - accuracy: 0.6564 - val_loss: 0.5981 - val_accuracy: 0.6840\n",
      "Epoch 5/10\n",
      "250/250 [==============================] - 544s 2s/step - loss: 0.5962 - accuracy: 0.6783 - val_loss: 0.5395 - val_accuracy: 0.7133\n",
      "Epoch 6/10\n",
      "250/250 [==============================] - 543s 2s/step - loss: 0.5744 - accuracy: 0.6985 - val_loss: 0.4861 - val_accuracy: 0.7328\n",
      "Epoch 7/10\n",
      "250/250 [==============================] - 542s 2s/step - loss: 0.5458 - accuracy: 0.7256 - val_loss: 0.6246 - val_accuracy: 0.7063\n",
      "Epoch 8/10\n",
      "250/250 [==============================] - 544s 2s/step - loss: 0.5254 - accuracy: 0.7331 - val_loss: 0.4942 - val_accuracy: 0.7407\n",
      "Epoch 9/10\n",
      "250/250 [==============================] - 544s 2s/step - loss: 0.5071 - accuracy: 0.7529 - val_loss: 0.5842 - val_accuracy: 0.7402\n",
      "Epoch 10/10\n",
      "250/250 [==============================] - 543s 2s/step - loss: 0.4845 - accuracy: 0.7650 - val_loss: 0.5945 - val_accuracy: 0.7200\n"
     ]
    },
    {
     "data": {
      "text/plain": [
       "<keras.callbacks.callbacks.History at 0x7f735c386c50>"
      ]
     },
     "execution_count": 38,
     "metadata": {},
     "output_type": "execute_result"
    }
   ],
   "source": [
    "# import the necessary packages\n",
    "from keras.preprocessing.image import ImageDataGenerator\n",
    "\n",
    "\n",
    "\n",
    "train_datagen = ImageDataGenerator(rescale=1./225,shear_range=0.2,zoom_range=0.2,horizontal_flip=True)\n",
    "test_datagen = ImageDataGenerator(rescale = 1./255)\n",
    "\n",
    "training_set = train_datagen.flow_from_directory('dataset/training_set',\n",
    "                                                 target_size = (64, 64),\n",
    "                                                 batch_size = 32,\n",
    "                                                 class_mode = 'categorical')\n",
    "\n",
    "\n",
    "test_set = test_datagen.flow_from_directory('dataset/test_set',\n",
    "                                            target_size = (64, 64),\n",
    "                                            batch_size = 32,\n",
    "                                            class_mode = 'categorical')\n",
    "\n",
    "model.fit_generator(training_set,samples_per_epoch = 8000,nb_epoch = 10,validation_data = test_set,nb_val_samples = 2000)\n",
    "\n",
    "\n"
   ]
  },
  {
   "cell_type": "code",
   "execution_count": 39,
   "metadata": {},
   "outputs": [
    {
     "name": "stdout",
     "output_type": "stream",
     "text": [
      "Saved model to disk\n"
     ]
    }
   ],
   "source": [
    "# serialize model to JSON\n",
    "from keras.models import model_from_json\n",
    "model_json = model.to_json()\n",
    "with open(\"model_lenet.json\", \"w\") as json_file:\n",
    "    json_file.write(model_json)\n",
    "# serialize weights to HDF5\n",
    "model.save_weights(\"model_lenet_weights.h5\")\n",
    "print(\"Saved model to disk\")"
   ]
  },
  {
   "cell_type": "code",
   "execution_count": 47,
   "metadata": {},
   "outputs": [],
   "source": [
    "from keras.models import model_from_json\n",
    "# Model reconstruction from JSON file\n",
    "with open('model_lenet.json', 'r') as f:\n",
    "    model_after = model_from_json(f.read())\n",
    "\n",
    "# Load weights into the new model\n",
    "model_after.load_weights('model_lenet_weights.h5')"
   ]
  },
  {
   "cell_type": "code",
   "execution_count": 51,
   "metadata": {},
   "outputs": [],
   "source": [
    "import cv2\n",
    "import matplotlib.pyplot as plt\n",
    "import numpy as np\n",
    "%matplotlib inline\n",
    "img = cv2.imread(\"/media/marzan/mini storage/CNN/cat.jpg\")"
   ]
  },
  {
   "cell_type": "code",
   "execution_count": 52,
   "metadata": {},
   "outputs": [],
   "source": [
    "reshape = cv2.resize(img,(64,64))\n",
    "dimention_currection = np.reshape(reshape,[1,64,64,3])"
   ]
  },
  {
   "cell_type": "code",
   "execution_count": 53,
   "metadata": {},
   "outputs": [
    {
     "data": {
      "text/plain": [
       "array([[1.00000e+00, 4.17571e-35]], dtype=float32)"
      ]
     },
     "execution_count": 53,
     "metadata": {},
     "output_type": "execute_result"
    }
   ],
   "source": [
    "predict = model_after.predict(dimention_currection)\n",
    "predict"
   ]
  },
  {
   "cell_type": "code",
   "execution_count": null,
   "metadata": {},
   "outputs": [],
   "source": []
  },
  {
   "cell_type": "code",
   "execution_count": null,
   "metadata": {},
   "outputs": [],
   "source": []
  }
 ],
 "metadata": {
  "kernelspec": {
   "display_name": "Python 3",
   "language": "python",
   "name": "python3"
  },
  "language_info": {
   "codemirror_mode": {
    "name": "ipython",
    "version": 3
   },
   "file_extension": ".py",
   "mimetype": "text/x-python",
   "name": "python",
   "nbconvert_exporter": "python",
   "pygments_lexer": "ipython3",
   "version": "3.5.2"
  }
 },
 "nbformat": 4,
 "nbformat_minor": 4
}

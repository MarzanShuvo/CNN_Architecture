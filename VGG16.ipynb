{
 "cells": [
  {
   "cell_type": "code",
   "execution_count": 3,
   "metadata": {},
   "outputs": [],
   "source": [
    "import keras\n",
    "from keras.models import Sequential\n",
    "from keras.layers import Dense, Activation, Dropout, Flatten, Conv2D, MaxPooling2D\n",
    "from keras.layers.normalization import BatchNormalization\n",
    "import numpy as np\n",
    "from keras import backend as K"
   ]
  },
  {
   "cell_type": "code",
   "execution_count": 9,
   "metadata": {},
   "outputs": [],
   "source": [
    "class VGG:\n",
    "    @staticmethod\n",
    "    def build(numChannels, imgRows, imgCols, numClasses, activation=\"relu\", weightsPath=None):\n",
    "        # sequential initialize the mode\n",
    "        model = Sequential()\n",
    "        inputShape = (imgRows, imgCols, numChannels)\n",
    "        \n",
    "        #if we are using \"last channels\", update the input shape\n",
    "        inputShape = (imgRows, imgCols, numChannels)\n",
    "        \n",
    "        # first convolution\n",
    "        model.add(Conv2D(filters=64,kernel_size=(3,3),strides=(1,1),padding=\"same\",input_shape=inputShape)) #96=convolution Filter,11=each filter size 11*11\n",
    "        model.add(Activation(activation))\n",
    "        \n",
    "        #second convolution\n",
    "        model.add(Conv2D(filters=64,kernel_size=(3,3),strides=(1,1),padding=\"same\"))\n",
    "        model.add(Activation(activation))\n",
    "        #maxpooling\n",
    "        model.add(MaxPooling2D(pool_size=(2,2),strides=(2,2)))\n",
    "        \n",
    "        # 3rd convolution\n",
    "        model.add(Conv2D(filters=128,kernel_size=(3,3),strides=(1,1),padding=\"same\"))\n",
    "        model.add(Activation(activation))\n",
    "        \n",
    "        #4th convolution\n",
    "        model.add(Conv2D(filters=128,kernel_size=(3,3),strides=(1,1),padding=\"same\"))\n",
    "        model.add(Activation(activation))\n",
    "        #maxpooling-2\n",
    "        model.add(MaxPooling2D(pool_size=(2,2),strides=(2,2)))\n",
    "        \n",
    "        #5th convolution\n",
    "        model.add(Conv2D(filters=256,kernel_size=(3,3),strides=(1,1),padding=\"same\"))\n",
    "        model.add(Activation(activation))\n",
    "        \n",
    "        #6th convolution\n",
    "        model.add(Conv2D(filters=256,kernel_size=(3,3),strides=(1,1),padding=\"same\"))\n",
    "        model.add(Activation(activation))\n",
    "        #maxpooling-3\n",
    "        model.add(MaxPooling2D(pool_size=(2,2),strides=(2,2)))\n",
    "        \n",
    "        #7rd convolution layer\n",
    "        model.add(Conv2D(filters=512,kernel_size=(3,3),strides=(1,1),padding=\"same\"))\n",
    "        model.add(Activation(\"relu\"))\n",
    "        \n",
    "        # 8th Convolutional Layer\n",
    "        model.add(Conv2D(filters=512, kernel_size=(3,3), strides=(1,1), padding=\"same\"))\n",
    "        model.add(Activation(activation))\n",
    "        \n",
    "        # 9th Convolutional Layer\n",
    "        model.add(Conv2D(filters=512, kernel_size=(3,3), strides=(1,1), padding=\"same\"))\n",
    "        model.add(Activation(activation))\n",
    "        # Max Pooling\n",
    "        model.add(MaxPooling2D(pool_size=(2,2), strides=(2,2), padding=\"same\"))\n",
    "        \n",
    "        #10rd convolution layer\n",
    "        model.add(Conv2D(filters=512,kernel_size=(3,3),strides=(1,1),padding=\"same\"))\n",
    "        model.add(Activation(\"relu\"))\n",
    "        \n",
    "        # 11th Convolutional Layer\n",
    "        model.add(Conv2D(filters=512, kernel_size=(3,3), strides=(1,1), padding=\"same\"))\n",
    "        model.add(Activation(activation))\n",
    "        \n",
    "        # 12th Convolutional Layer\n",
    "        model.add(Conv2D(filters=512, kernel_size=(3,3), strides=(1,1), padding=\"same\"))\n",
    "        model.add(Activation(activation))\n",
    "        # Max Pooling\n",
    "        model.add(MaxPooling2D(pool_size=(2,2), strides=(2,2), padding=\"same\"))\n",
    "        \n",
    "        # define the first FC => ACTIVATION layers\n",
    "        model.add(Flatten())\n",
    "        model.add(Dense(25088))\n",
    "        model.add(Activation(activation))\n",
    "        model.add(Dropout(0.4))\n",
    "        # define the second FC layer\n",
    "        \n",
    "        # 2nd Fully Connected Layer\n",
    "        model.add(Dense(4096))\n",
    "        model.add(Activation(\"relu\"))\n",
    "        # Add Dropout\n",
    "        model.add(Dropout(0.4))\n",
    "        \n",
    "        # 2nd Fully Connected Layer\n",
    "        model.add(Dense(4096))\n",
    "        model.add(Activation(\"relu\"))\n",
    "        # Add Dropout\n",
    "        model.add(Dropout(0.4))\n",
    "        \n",
    "        # lastly, define the soft-max classifier\n",
    "        model.add(Dense(numClasses))\n",
    "        model.add(Activation(\"softmax\"))\n",
    "        # if a weights path is supplied (inicating that the model was pre-trained), then load the weights\n",
    "        # return the construction architecture\n",
    "        return model"
   ]
  },
  {
   "cell_type": "code",
   "execution_count": 10,
   "metadata": {
    "collapsed": true,
    "jupyter": {
     "outputs_hidden": true
    }
   },
   "outputs": [
    {
     "ename": "NameError",
     "evalue": "name 'Activation' is not defined",
     "output_type": "error",
     "traceback": [
      "\u001b[0;31m---------------------------------------------------------------------------\u001b[0m",
      "\u001b[0;31mNameError\u001b[0m                                 Traceback (most recent call last)",
      "\u001b[0;32m<ipython-input-10-8ea272ef5d8c>\u001b[0m in \u001b[0;36m<module>\u001b[0;34m\u001b[0m\n\u001b[1;32m      2\u001b[0m \u001b[0;32mfrom\u001b[0m \u001b[0mkeras\u001b[0m\u001b[0;34m.\u001b[0m\u001b[0moptimizers\u001b[0m \u001b[0;32mimport\u001b[0m \u001b[0mSGD\u001b[0m\u001b[0;34m\u001b[0m\u001b[0m\n\u001b[1;32m      3\u001b[0m \u001b[0mopt\u001b[0m \u001b[0;34m=\u001b[0m \u001b[0mSGD\u001b[0m\u001b[0;34m(\u001b[0m\u001b[0mlr\u001b[0m\u001b[0;34m=\u001b[0m\u001b[0;36m0.01\u001b[0m\u001b[0;34m)\u001b[0m\u001b[0;34m\u001b[0m\u001b[0m\n\u001b[0;32m----> 4\u001b[0;31m \u001b[0mmodel\u001b[0m \u001b[0;34m=\u001b[0m \u001b[0mVGG\u001b[0m\u001b[0;34m.\u001b[0m\u001b[0mbuild\u001b[0m\u001b[0;34m(\u001b[0m\u001b[0mnumChannels\u001b[0m\u001b[0;34m=\u001b[0m\u001b[0;36m3\u001b[0m\u001b[0;34m,\u001b[0m \u001b[0mimgRows\u001b[0m\u001b[0;34m=\u001b[0m\u001b[0;36m224\u001b[0m\u001b[0;34m,\u001b[0m \u001b[0mimgCols\u001b[0m\u001b[0;34m=\u001b[0m\u001b[0;36m224\u001b[0m\u001b[0;34m,\u001b[0m \u001b[0mnumClasses\u001b[0m\u001b[0;34m=\u001b[0m\u001b[0;36m2\u001b[0m\u001b[0;34m)\u001b[0m\u001b[0;34m\u001b[0m\u001b[0m\n\u001b[0m\u001b[1;32m      5\u001b[0m \u001b[0mmodel\u001b[0m\u001b[0;34m.\u001b[0m\u001b[0mcompile\u001b[0m\u001b[0;34m(\u001b[0m\u001b[0moptimizer\u001b[0m \u001b[0;34m=\u001b[0m \u001b[0;34m'adam'\u001b[0m\u001b[0;34m,\u001b[0m \u001b[0mloss\u001b[0m \u001b[0;34m=\u001b[0m \u001b[0;34m'binary_crossentropy'\u001b[0m\u001b[0;34m,\u001b[0m \u001b[0mmetrics\u001b[0m \u001b[0;34m=\u001b[0m \u001b[0;34m[\u001b[0m\u001b[0;34m'accuracy'\u001b[0m\u001b[0;34m]\u001b[0m\u001b[0;34m)\u001b[0m\u001b[0;34m\u001b[0m\u001b[0m\n",
      "\u001b[0;32m<ipython-input-9-625eec780130>\u001b[0m in \u001b[0;36mbuild\u001b[0;34m(numChannels, imgRows, imgCols, numClasses, activation, weightsPath)\u001b[0m\n\u001b[1;32m     11\u001b[0m         \u001b[0;31m# first convolution\u001b[0m\u001b[0;34m\u001b[0m\u001b[0;34m\u001b[0m\u001b[0m\n\u001b[1;32m     12\u001b[0m         \u001b[0mmodel\u001b[0m\u001b[0;34m.\u001b[0m\u001b[0madd\u001b[0m\u001b[0;34m(\u001b[0m\u001b[0mConv2D\u001b[0m\u001b[0;34m(\u001b[0m\u001b[0mfilters\u001b[0m\u001b[0;34m=\u001b[0m\u001b[0;36m64\u001b[0m\u001b[0;34m,\u001b[0m\u001b[0mkernel_size\u001b[0m\u001b[0;34m=\u001b[0m\u001b[0;34m(\u001b[0m\u001b[0;36m3\u001b[0m\u001b[0;34m,\u001b[0m\u001b[0;36m3\u001b[0m\u001b[0;34m)\u001b[0m\u001b[0;34m,\u001b[0m\u001b[0mstrides\u001b[0m\u001b[0;34m=\u001b[0m\u001b[0;34m(\u001b[0m\u001b[0;36m1\u001b[0m\u001b[0;34m,\u001b[0m\u001b[0;36m1\u001b[0m\u001b[0;34m)\u001b[0m\u001b[0;34m,\u001b[0m\u001b[0mpadding\u001b[0m\u001b[0;34m=\u001b[0m\u001b[0;34m\"same\"\u001b[0m\u001b[0;34m,\u001b[0m\u001b[0minput_shape\u001b[0m\u001b[0;34m=\u001b[0m\u001b[0minputShape\u001b[0m\u001b[0;34m)\u001b[0m\u001b[0;34m)\u001b[0m \u001b[0;31m#96=convolution Filter,11=each filter size 11*11\u001b[0m\u001b[0;34m\u001b[0m\u001b[0m\n\u001b[0;32m---> 13\u001b[0;31m         \u001b[0mmodel\u001b[0m\u001b[0;34m.\u001b[0m\u001b[0madd\u001b[0m\u001b[0;34m(\u001b[0m\u001b[0mActivation\u001b[0m\u001b[0;34m(\u001b[0m\u001b[0mactivation\u001b[0m\u001b[0;34m)\u001b[0m\u001b[0;34m)\u001b[0m\u001b[0;34m\u001b[0m\u001b[0m\n\u001b[0m\u001b[1;32m     14\u001b[0m \u001b[0;34m\u001b[0m\u001b[0m\n\u001b[1;32m     15\u001b[0m         \u001b[0;31m#second convolution\u001b[0m\u001b[0;34m\u001b[0m\u001b[0;34m\u001b[0m\u001b[0m\n",
      "\u001b[0;31mNameError\u001b[0m: name 'Activation' is not defined"
     ]
    }
   ],
   "source": [
    "from keras.preprocessing.image import ImageDataGenerator\n",
    "from keras.optimizers import SGD\n",
    "opt = SGD(lr=0.01)\n",
    "model = VGG.build(numChannels=3, imgRows=224, imgCols=224, numClasses=2)\n",
    "model.compile(optimizer = 'adam', loss = 'binary_crossentropy', metrics = ['accuracy'])\n"
   ]
  },
  {
   "cell_type": "code",
   "execution_count": null,
   "metadata": {},
   "outputs": [],
   "source": [
    "# import the necessary packages\n",
    "from keras.preprocessing.image import ImageDataGenerator\n",
    "\n",
    "\n",
    "\n",
    "train_datagen = ImageDataGenerator(rescale=1./225,shear_range=0.2,zoom_range=0.2,horizontal_flip=True)\n",
    "test_datagen = ImageDataGenerator(rescale = 1./255)\n",
    "\n",
    "training_set = train_datagen.flow_from_directory('dataset/training_set',\n",
    "                                                 target_size = (227, 227),\n",
    "                                                 batch_size = 32,\n",
    "                                                 class_mode = 'categorical')\n",
    "\n",
    "\n",
    "test_set = test_datagen.flow_from_directory('dataset/test_set',\n",
    "                                            target_size = (227, 227),\n",
    "                                            batch_size = 32,\n",
    "                                            class_mode = 'categorical')\n",
    "\n",
    "model.fit_generator(training_set,samples_per_epoch = 8000,nb_epoch = 1,validation_data = test_set,nb_val_samples = 2000)"
   ]
  },
  {
   "cell_type": "code",
   "execution_count": null,
   "metadata": {},
   "outputs": [],
   "source": [
    "# serialize model to JSON\n",
    "from keras.models import model_from_json\n",
    "model_json = model.to_json()\n",
    "with open(\"model_alexnet.json\", \"w\") as json_file:\n",
    "    json_file.write(model_json)\n",
    "# serialize weights to HDF5\n",
    "model.save_weights(\"model_alexnet_weights.h5\")\n",
    "print(\"Saved model to disk\")"
   ]
  },
  {
   "cell_type": "code",
   "execution_count": null,
   "metadata": {},
   "outputs": [],
   "source": [
    "from keras.models import model_from_json\n",
    "# Model reconstruction from JSON file\n",
    "with open('model_alexnet.json', 'r') as f:\n",
    "    model_after = model_from_json(f.read())\n",
    "\n",
    "# Load weights into the new model\n",
    "model_after.load_weights('model_alexnet_weights.h5')"
   ]
  },
  {
   "cell_type": "code",
   "execution_count": null,
   "metadata": {},
   "outputs": [],
   "source": [
    "import cv2\n",
    "import matplotlib.pyplot as plt\n",
    "import numpy as np\n",
    "%matplotlib inline\n",
    "img = cv2.imread(\"/media/marzan/mini storage/CNN/cat.jpg\")"
   ]
  },
  {
   "cell_type": "code",
   "execution_count": null,
   "metadata": {},
   "outputs": [],
   "source": [
    "reshape = cv2.resize(img,(64,64))\n",
    "dimention_currection = np.reshape(reshape,[1,64,64,3])"
   ]
  },
  {
   "cell_type": "code",
   "execution_count": null,
   "metadata": {},
   "outputs": [],
   "source": [
    "predict = model_after.predict(dimention_currection)\n",
    "predict"
   ]
  }
 ],
 "metadata": {
  "kernelspec": {
   "display_name": "Python 3",
   "language": "python",
   "name": "python3"
  },
  "language_info": {
   "codemirror_mode": {
    "name": "ipython",
    "version": 3
   },
   "file_extension": ".py",
   "mimetype": "text/x-python",
   "name": "python",
   "nbconvert_exporter": "python",
   "pygments_lexer": "ipython3",
   "version": "3.5.2"
  }
 },
 "nbformat": 4,
 "nbformat_minor": 4
}
